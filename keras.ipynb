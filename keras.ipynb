{
 "cells": [
  {
   "cell_type": "code",
   "execution_count": 1,
   "metadata": {},
   "outputs": [
    {
     "name": "stderr",
     "output_type": "stream",
     "text": [
      "Using TensorFlow backend.\n"
     ]
    }
   ],
   "source": [
    "import keras\n",
    "from keras.datasets import mnist\n",
    "from keras.models import Sequential\n",
    "from keras.layers import Dense, Dropout, Flatten, Conv2D, MaxPooling2D\n",
    "import numpy as np\n",
    "BATCH_SIZE = 128\n",
    "NUM_CLASSES = 10\n",
    "NUM_EPOCHS = 10"
   ]
  },
  {
   "cell_type": "code",
   "execution_count": 3,
   "metadata": {},
   "outputs": [
    {
     "name": "stdout",
     "output_type": "stream",
     "text": [
      "(60000, 28, 28)\n"
     ]
    }
   ],
   "source": [
    "# download and load the data (split them between train and test sets)\n",
    "(x_train, y_train), (x_test, y_test) = mnist.load_data()\n",
    "# expand the channel dimension\n",
    "x_train = x_train.reshape(x_train.shape[0], 28, 28, 1)\n",
    "x_test = x_test.reshape(x_test.shape[0], 28, 28, 1)\n",
    "input_shape = (28, 28, 1)\n",
    "\n",
    "# make the value of pixels from [0, 255] to [0, 1] for further process\n",
    "x_train = x_train.astype('float32') / 255.\n",
    "x_test = x_test.astype('float32') / 255.\n",
    "\n",
    "# convert class vectors to binary class matrics\n",
    "y_train = keras.utils.to_categorical(y_train, NUM_CLASSES)\n",
    "y_test = keras.utils.to_categorical(y_test, NUM_CLASSES)"
   ]
  },
  {
   "cell_type": "code",
   "execution_count": 6,
   "metadata": {},
   "outputs": [],
   "source": [
    "from keras.losses import categorical_crossentropy\n",
    "from keras.optimizers import Adadelta\n",
    "model = Sequential()\n",
    "model.add(Conv2D(32, (5,5), activation='relu', input_shape=[28, 28, 1]))\n",
    "model.add(Conv2D(64, (5,5), activation='relu'))\n",
    "model.add(MaxPooling2D(pool_size=(2,2)))\n",
    "model.add(Flatten())\n",
    "model.add(Dropout(0.5))\n",
    "model.add(Dense(128, activation='relu'))\n",
    "model.add(Dropout(0.5))\n",
    "model.add(Dense(10, activation='softmax'))\n",
    "\n",
    "model.compile(loss=categorical_crossentropy,\n",
    "             optimizer=Adadelta(),\n",
    "             metrics=['accuracy'])"
   ]
  },
  {
   "cell_type": "code",
   "execution_count": 7,
   "metadata": {},
   "outputs": [
    {
     "name": "stdout",
     "output_type": "stream",
     "text": [
      "Epoch 1/10\n",
      "60000/60000 [==============================] - 103s 2ms/step - loss: 0.2438 - accuracy: 0.9250\n",
      "Epoch 2/10\n",
      "60000/60000 [==============================] - 104s 2ms/step - loss: 0.0887 - accuracy: 0.9733\n",
      "Epoch 3/10\n",
      "60000/60000 [==============================] - 118s 2ms/step - loss: 0.0668 - accuracy: 0.9804\n",
      "Epoch 4/10\n",
      "60000/60000 [==============================] - 108s 2ms/step - loss: 0.0585 - accuracy: 0.9829\n",
      "Epoch 5/10\n",
      "60000/60000 [==============================] - 109s 2ms/step - loss: 0.0494 - accuracy: 0.9858\n",
      "Epoch 6/10\n",
      "60000/60000 [==============================] - 106s 2ms/step - loss: 0.0462 - accuracy: 0.9863\n",
      "Epoch 7/10\n",
      "60000/60000 [==============================] - 117s 2ms/step - loss: 0.0402 - accuracy: 0.9878\n",
      "Epoch 8/10\n",
      "60000/60000 [==============================] - 131s 2ms/step - loss: 0.0390 - accuracy: 0.9883\n",
      "Epoch 9/10\n",
      "60000/60000 [==============================] - 126s 2ms/step - loss: 0.0355 - accuracy: 0.9896\n",
      "Epoch 10/10\n",
      "60000/60000 [==============================] - 118s 2ms/step - loss: 0.0328 - accuracy: 0.9900\n"
     ]
    },
    {
     "data": {
      "text/plain": [
       "<keras.callbacks.callbacks.History at 0x16e87f06d48>"
      ]
     },
     "execution_count": 7,
     "metadata": {},
     "output_type": "execute_result"
    }
   ],
   "source": [
    "batch_size = 128\n",
    "epochs = 10\n",
    "model.fit(x_train, y_train,\n",
    "         batch_size=batch_size,\n",
    "         epochs=epochs)"
   ]
  },
  {
   "cell_type": "code",
   "execution_count": 8,
   "metadata": {},
   "outputs": [
    {
     "name": "stdout",
     "output_type": "stream",
     "text": [
      "10000/10000 [==============================] - 4s 447us/step\n",
      "60000/60000 [==============================] - 26s 430us/step\n",
      "Testing loss: 0.0225, Testing accuracy: 99.30%\n",
      "Testing loss: 0.0145, Testing accuracy: 99.56%\n"
     ]
    }
   ],
   "source": [
    "loss1,accuracy1 = model.evaluate(x_test, y_test, verbose=1)\n",
    "loss2,accuracy2 = model.evaluate(x_train, y_train, verbose=1)\n",
    "accuracy1 *= 100\n",
    "accuracy2 *= 100\n",
    "print('Testing loss: %.4f, Testing accuracy: %.2f%%' % (loss1,accuracy1))\n",
    "print('Testing loss: %.4f, Testing accuracy: %.2f%%' % (loss2,accuracy2))"
   ]
  },
  {
   "cell_type": "code",
   "execution_count": null,
   "metadata": {},
   "outputs": [],
   "source": []
  }
 ],
 "metadata": {
  "kernelspec": {
   "display_name": "Python 3",
   "language": "python",
   "name": "python3"
  },
  "language_info": {
   "codemirror_mode": {
    "name": "ipython",
    "version": 3
   },
   "file_extension": ".py",
   "mimetype": "text/x-python",
   "name": "python",
   "nbconvert_exporter": "python",
   "pygments_lexer": "ipython3",
   "version": "3.7.4"
  }
 },
 "nbformat": 4,
 "nbformat_minor": 2
}
