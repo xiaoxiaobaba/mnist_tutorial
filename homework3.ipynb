{
 "cells": [
  {
   "cell_type": "code",
   "execution_count": 2,
   "metadata": {},
   "outputs": [],
   "source": [
    "import torch\n",
    "import torch.nn as nn\n",
    "import torch.utils.data as data\n",
    "import torchvision\n",
    "import torchvision.transforms as transforms\n",
    "from tqdm import tqdm\n",
    "import time\n",
    "\n",
    "BATCH_SIZE = 128\n",
    "NUM_EPOCHS = 10"
   ]
  },
  {
   "cell_type": "code",
   "execution_count": 3,
   "metadata": {},
   "outputs": [
    {
     "name": "stdout",
     "output_type": "stream",
     "text": [
      "Downloading http://yann.lecun.com/exdb/mnist/train-images-idx3-ubyte.gz to ./mnist/MNIST\\raw\\train-images-idx3-ubyte.gz\n"
     ]
    },
    {
     "name": "stderr",
     "output_type": "stream",
     "text": [
      "100.1%"
     ]
    },
    {
     "name": "stdout",
     "output_type": "stream",
     "text": [
      "Extracting ./mnist/MNIST\\raw\\train-images-idx3-ubyte.gz to ./mnist/MNIST\\raw\n",
      "Downloading http://yann.lecun.com/exdb/mnist/train-labels-idx1-ubyte.gz to ./mnist/MNIST\\raw\\train-labels-idx1-ubyte.gz\n"
     ]
    },
    {
     "name": "stderr",
     "output_type": "stream",
     "text": [
      "113.5%"
     ]
    },
    {
     "name": "stdout",
     "output_type": "stream",
     "text": [
      "Extracting ./mnist/MNIST\\raw\\train-labels-idx1-ubyte.gz to ./mnist/MNIST\\raw\n",
      "Downloading http://yann.lecun.com/exdb/mnist/t10k-images-idx3-ubyte.gz to ./mnist/MNIST\\raw\\t10k-images-idx3-ubyte.gz\n"
     ]
    },
    {
     "name": "stderr",
     "output_type": "stream",
     "text": [
      "100.4%"
     ]
    },
    {
     "name": "stdout",
     "output_type": "stream",
     "text": [
      "Extracting ./mnist/MNIST\\raw\\t10k-images-idx3-ubyte.gz to ./mnist/MNIST\\raw\n",
      "Downloading http://yann.lecun.com/exdb/mnist/t10k-labels-idx1-ubyte.gz to ./mnist/MNIST\\raw\\t10k-labels-idx1-ubyte.gz\n"
     ]
    },
    {
     "name": "stderr",
     "output_type": "stream",
     "text": [
      "180.4%"
     ]
    },
    {
     "name": "stdout",
     "output_type": "stream",
     "text": [
      "Extracting ./mnist/MNIST\\raw\\t10k-labels-idx1-ubyte.gz to ./mnist/MNIST\\raw\n",
      "Processing...\n",
      "Done!\n"
     ]
    }
   ],
   "source": [
    "# preprocessing\n",
    "normalize = transforms.Normalize(mean=[.5], std=[.5])\n",
    "transform = transforms.Compose([transforms.ToTensor(), normalize])\n",
    "\n",
    "# download and load the data\n",
    "train_dataset = torchvision.datasets.MNIST(root='./mnist/', train=True, transform=transform, download=True)\n",
    "test_dataset = torchvision.datasets.MNIST(root='./mnist/', train=False, transform=transform, download=False)\n",
    "\n",
    "# encapsulate them into dataloader form\n",
    "train_loader = data.DataLoader(train_dataset, batch_size=BATCH_SIZE, shuffle=True, drop_last=True)\n",
    "test_loader = data.DataLoader(test_dataset, batch_size=BATCH_SIZE, shuffle=False, drop_last=True)"
   ]
  },
  {
   "cell_type": "code",
   "execution_count": 4,
   "metadata": {},
   "outputs": [],
   "source": [
    "class ConvNet(nn.Module):\n",
    "    def __init__(self):\n",
    "        super().__init__()\n",
    "        # 1,28x28\n",
    "        self.conv1=nn.Conv2d(1,10,5) # 10, 24x24\n",
    "        self.conv2=nn.Conv2d(10,20,3) # 128, 10x10\n",
    "        self.fc1 = nn.Linear(20*10*10,500)\n",
    "        self.fc2 = nn.Linear(500,10)\n",
    "    def forward(self,x):\n",
    "        in_size = x.size(0)\n",
    "        out = self.conv1(x) #24\n",
    "        out = F.relu(out)\n",
    "        out = F.max_pool2d(out, 2, 2)  #12\n",
    "        out = self.conv2(out) #10\n",
    "        out = F.relu(out)\n",
    "        out = out.view(in_size,-1)\n",
    "        out = self.fc1(out)\n",
    "        out = F.relu(out)\n",
    "        out = self.fc2(out)\n",
    "        out = F.log_softmax(out,dim=1)\n",
    "        return out"
   ]
  },
  {
   "cell_type": "code",
   "execution_count": 10,
   "metadata": {},
   "outputs": [],
   "source": [
    "\n",
    "import torch.optim as optim\n",
    "DEVICE = torch.device(\"cuda\" if torch.cuda.is_available() else \"cpu\") # 让torch判断是否使用GPU，建议使用GPU环境，因为会快很多\n",
    "model = ConvNet().to(DEVICE)\n",
    "optimizer = optim.Adam(model.parameters())"
   ]
  },
  {
   "cell_type": "code",
   "execution_count": 11,
   "metadata": {},
   "outputs": [],
   "source": [
    "def train(model, device, train_loader, optimizer, epoch):\n",
    "    model.train()\n",
    "    for batch_idx, (data, target) in enumerate(train_loader):\n",
    "        data, target = data.to(device), target.to(device)\n",
    "        optimizer.zero_grad()\n",
    "        output = model(data)\n",
    "        loss = F.nll_loss(output, target)\n",
    "        loss.backward()\n",
    "        optimizer.step()\n",
    "        if(batch_idx+1)%30 == 0: \n",
    "            print('Train Epoch: {} [{}/{} ({:.0f}%)]\\tLoss: {:.6f}'.format(\n",
    "                epoch, batch_idx * len(data), len(train_loader.dataset),\n",
    "                100. * batch_idx / len(train_loader), loss.item()))"
   ]
  },
  {
   "cell_type": "code",
   "execution_count": 12,
   "metadata": {},
   "outputs": [],
   "source": [
    "def test(model, device, test_loader):\n",
    "    model.eval()\n",
    "    test_loss = 0\n",
    "    correct = 0\n",
    "    with torch.no_grad():\n",
    "        for data, target in test_loader:\n",
    "            data, target = data.to(device), target.to(device)\n",
    "            output = model(data)\n",
    "            test_loss += F.nll_loss(output, target, reduction='sum').item() # 将一批的损失相加\n",
    "            pred = output.max(1, keepdim=True)[1] # 找到概率最大的下标\n",
    "            correct += pred.eq(target.view_as(pred)).sum().item()\n",
    "\n",
    "    test_loss /= len(test_loader.dataset)\n",
    "    print('\\nTest set: Average loss: {:.4f}, Accuracy: {}/{} ({:.0f}%)\\n'.format(\n",
    "        test_loss, correct, len(test_loader.dataset),\n",
    "        100. * correct / len(test_loader.dataset)))"
   ]
  },
  {
   "cell_type": "code",
   "execution_count": 14,
   "metadata": {},
   "outputs": [
    {
     "name": "stdout",
     "output_type": "stream",
     "text": [
      "Train Epoch: 1 [3712/60000 (6%)]\tLoss: 0.509756\n",
      "Train Epoch: 1 [7552/60000 (13%)]\tLoss: 0.418435\n",
      "Train Epoch: 1 [11392/60000 (19%)]\tLoss: 0.303486\n",
      "Train Epoch: 1 [15232/60000 (25%)]\tLoss: 0.149126\n",
      "Train Epoch: 1 [19072/60000 (32%)]\tLoss: 0.203605\n",
      "Train Epoch: 1 [22912/60000 (38%)]\tLoss: 0.056012\n",
      "Train Epoch: 1 [26752/60000 (45%)]\tLoss: 0.136871\n",
      "Train Epoch: 1 [30592/60000 (51%)]\tLoss: 0.036254\n",
      "Train Epoch: 1 [34432/60000 (57%)]\tLoss: 0.201549\n",
      "Train Epoch: 1 [38272/60000 (64%)]\tLoss: 0.083180\n",
      "Train Epoch: 1 [42112/60000 (70%)]\tLoss: 0.073207\n",
      "Train Epoch: 1 [45952/60000 (77%)]\tLoss: 0.151191\n",
      "Train Epoch: 1 [49792/60000 (83%)]\tLoss: 0.077862\n",
      "Train Epoch: 1 [53632/60000 (90%)]\tLoss: 0.079721\n",
      "Train Epoch: 1 [57472/60000 (96%)]\tLoss: 0.025083\n",
      "\n",
      "Test set: Average loss: 0.0595, Accuracy: 9795/10000 (98%)\n",
      "\n",
      "Train Epoch: 2 [3712/60000 (6%)]\tLoss: 0.081630\n",
      "Train Epoch: 2 [7552/60000 (13%)]\tLoss: 0.132877\n",
      "Train Epoch: 2 [11392/60000 (19%)]\tLoss: 0.063350\n",
      "Train Epoch: 2 [15232/60000 (25%)]\tLoss: 0.044176\n",
      "Train Epoch: 2 [19072/60000 (32%)]\tLoss: 0.118866\n",
      "Train Epoch: 2 [22912/60000 (38%)]\tLoss: 0.061416\n",
      "Train Epoch: 2 [26752/60000 (45%)]\tLoss: 0.113185\n",
      "Train Epoch: 2 [30592/60000 (51%)]\tLoss: 0.038510\n",
      "Train Epoch: 2 [34432/60000 (57%)]\tLoss: 0.061805\n",
      "Train Epoch: 2 [38272/60000 (64%)]\tLoss: 0.006380\n",
      "Train Epoch: 2 [42112/60000 (70%)]\tLoss: 0.028177\n",
      "Train Epoch: 2 [45952/60000 (77%)]\tLoss: 0.050891\n",
      "Train Epoch: 2 [49792/60000 (83%)]\tLoss: 0.042681\n",
      "Train Epoch: 2 [53632/60000 (90%)]\tLoss: 0.028547\n",
      "Train Epoch: 2 [57472/60000 (96%)]\tLoss: 0.064169\n",
      "\n",
      "Test set: Average loss: 0.0486, Accuracy: 9818/10000 (98%)\n",
      "\n",
      "Train Epoch: 3 [3712/60000 (6%)]\tLoss: 0.072160\n",
      "Train Epoch: 3 [7552/60000 (13%)]\tLoss: 0.013259\n",
      "Train Epoch: 3 [11392/60000 (19%)]\tLoss: 0.005889\n",
      "Train Epoch: 3 [15232/60000 (25%)]\tLoss: 0.051037\n",
      "Train Epoch: 3 [19072/60000 (32%)]\tLoss: 0.029781\n",
      "Train Epoch: 3 [22912/60000 (38%)]\tLoss: 0.045890\n",
      "Train Epoch: 3 [26752/60000 (45%)]\tLoss: 0.058197\n",
      "Train Epoch: 3 [30592/60000 (51%)]\tLoss: 0.040617\n",
      "Train Epoch: 3 [34432/60000 (57%)]\tLoss: 0.022091\n",
      "Train Epoch: 3 [38272/60000 (64%)]\tLoss: 0.022029\n",
      "Train Epoch: 3 [42112/60000 (70%)]\tLoss: 0.020905\n",
      "Train Epoch: 3 [45952/60000 (77%)]\tLoss: 0.021835\n",
      "Train Epoch: 3 [49792/60000 (83%)]\tLoss: 0.030268\n",
      "Train Epoch: 3 [53632/60000 (90%)]\tLoss: 0.019257\n",
      "Train Epoch: 3 [57472/60000 (96%)]\tLoss: 0.021999\n",
      "\n",
      "Test set: Average loss: 0.0362, Accuracy: 9874/10000 (99%)\n",
      "\n",
      "Train Epoch: 4 [3712/60000 (6%)]\tLoss: 0.004271\n",
      "Train Epoch: 4 [7552/60000 (13%)]\tLoss: 0.028191\n",
      "Train Epoch: 4 [11392/60000 (19%)]\tLoss: 0.046639\n",
      "Train Epoch: 4 [15232/60000 (25%)]\tLoss: 0.009010\n",
      "Train Epoch: 4 [19072/60000 (32%)]\tLoss: 0.022865\n",
      "Train Epoch: 4 [22912/60000 (38%)]\tLoss: 0.027728\n",
      "Train Epoch: 4 [26752/60000 (45%)]\tLoss: 0.039244\n",
      "Train Epoch: 4 [30592/60000 (51%)]\tLoss: 0.001878\n",
      "Train Epoch: 4 [34432/60000 (57%)]\tLoss: 0.043725\n",
      "Train Epoch: 4 [38272/60000 (64%)]\tLoss: 0.041149\n",
      "Train Epoch: 4 [42112/60000 (70%)]\tLoss: 0.051532\n",
      "Train Epoch: 4 [45952/60000 (77%)]\tLoss: 0.147320\n",
      "Train Epoch: 4 [49792/60000 (83%)]\tLoss: 0.024399\n",
      "Train Epoch: 4 [53632/60000 (90%)]\tLoss: 0.006004\n",
      "Train Epoch: 4 [57472/60000 (96%)]\tLoss: 0.013679\n",
      "\n",
      "Test set: Average loss: 0.0380, Accuracy: 9860/10000 (99%)\n",
      "\n",
      "Train Epoch: 5 [3712/60000 (6%)]\tLoss: 0.004221\n",
      "Train Epoch: 5 [7552/60000 (13%)]\tLoss: 0.007604\n",
      "Train Epoch: 5 [11392/60000 (19%)]\tLoss: 0.012157\n",
      "Train Epoch: 5 [15232/60000 (25%)]\tLoss: 0.027680\n",
      "Train Epoch: 5 [19072/60000 (32%)]\tLoss: 0.005007\n",
      "Train Epoch: 5 [22912/60000 (38%)]\tLoss: 0.058941\n",
      "Train Epoch: 5 [26752/60000 (45%)]\tLoss: 0.007558\n",
      "Train Epoch: 5 [30592/60000 (51%)]\tLoss: 0.010535\n",
      "Train Epoch: 5 [34432/60000 (57%)]\tLoss: 0.031114\n",
      "Train Epoch: 5 [38272/60000 (64%)]\tLoss: 0.007727\n",
      "Train Epoch: 5 [42112/60000 (70%)]\tLoss: 0.016336\n",
      "Train Epoch: 5 [45952/60000 (77%)]\tLoss: 0.009230\n",
      "Train Epoch: 5 [49792/60000 (83%)]\tLoss: 0.003278\n",
      "Train Epoch: 5 [53632/60000 (90%)]\tLoss: 0.047555\n",
      "Train Epoch: 5 [57472/60000 (96%)]\tLoss: 0.032094\n",
      "\n",
      "Test set: Average loss: 0.0328, Accuracy: 9881/10000 (99%)\n",
      "\n",
      "Train Epoch: 6 [3712/60000 (6%)]\tLoss: 0.007422\n",
      "Train Epoch: 6 [7552/60000 (13%)]\tLoss: 0.008089\n",
      "Train Epoch: 6 [11392/60000 (19%)]\tLoss: 0.001223\n",
      "Train Epoch: 6 [15232/60000 (25%)]\tLoss: 0.001698\n",
      "Train Epoch: 6 [19072/60000 (32%)]\tLoss: 0.011037\n",
      "Train Epoch: 6 [22912/60000 (38%)]\tLoss: 0.008835\n",
      "Train Epoch: 6 [26752/60000 (45%)]\tLoss: 0.006666\n",
      "Train Epoch: 6 [30592/60000 (51%)]\tLoss: 0.012742\n",
      "Train Epoch: 6 [34432/60000 (57%)]\tLoss: 0.010562\n",
      "Train Epoch: 6 [38272/60000 (64%)]\tLoss: 0.000742\n",
      "Train Epoch: 6 [42112/60000 (70%)]\tLoss: 0.045887\n",
      "Train Epoch: 6 [45952/60000 (77%)]\tLoss: 0.030362\n",
      "Train Epoch: 6 [49792/60000 (83%)]\tLoss: 0.004077\n",
      "Train Epoch: 6 [53632/60000 (90%)]\tLoss: 0.118821\n",
      "Train Epoch: 6 [57472/60000 (96%)]\tLoss: 0.005715\n",
      "\n",
      "Test set: Average loss: 0.0316, Accuracy: 9883/10000 (99%)\n",
      "\n",
      "Train Epoch: 7 [3712/60000 (6%)]\tLoss: 0.009426\n",
      "Train Epoch: 7 [7552/60000 (13%)]\tLoss: 0.002073\n",
      "Train Epoch: 7 [11392/60000 (19%)]\tLoss: 0.012827\n",
      "Train Epoch: 7 [15232/60000 (25%)]\tLoss: 0.001842\n",
      "Train Epoch: 7 [19072/60000 (32%)]\tLoss: 0.001337\n",
      "Train Epoch: 7 [22912/60000 (38%)]\tLoss: 0.005452\n",
      "Train Epoch: 7 [26752/60000 (45%)]\tLoss: 0.030420\n",
      "Train Epoch: 7 [30592/60000 (51%)]\tLoss: 0.014399\n",
      "Train Epoch: 7 [34432/60000 (57%)]\tLoss: 0.020177\n",
      "Train Epoch: 7 [38272/60000 (64%)]\tLoss: 0.002219\n",
      "Train Epoch: 7 [42112/60000 (70%)]\tLoss: 0.021116\n",
      "Train Epoch: 7 [45952/60000 (77%)]\tLoss: 0.019073\n",
      "Train Epoch: 7 [49792/60000 (83%)]\tLoss: 0.008076\n",
      "Train Epoch: 7 [53632/60000 (90%)]\tLoss: 0.023416\n",
      "Train Epoch: 7 [57472/60000 (96%)]\tLoss: 0.008764\n",
      "\n",
      "Test set: Average loss: 0.0421, Accuracy: 9859/10000 (99%)\n",
      "\n",
      "Train Epoch: 8 [3712/60000 (6%)]\tLoss: 0.011360\n",
      "Train Epoch: 8 [7552/60000 (13%)]\tLoss: 0.016797\n",
      "Train Epoch: 8 [11392/60000 (19%)]\tLoss: 0.013906\n",
      "Train Epoch: 8 [15232/60000 (25%)]\tLoss: 0.010146\n",
      "Train Epoch: 8 [19072/60000 (32%)]\tLoss: 0.005093\n",
      "Train Epoch: 8 [22912/60000 (38%)]\tLoss: 0.003503\n",
      "Train Epoch: 8 [26752/60000 (45%)]\tLoss: 0.000835\n",
      "Train Epoch: 8 [30592/60000 (51%)]\tLoss: 0.002240\n",
      "Train Epoch: 8 [34432/60000 (57%)]\tLoss: 0.005872\n",
      "Train Epoch: 8 [38272/60000 (64%)]\tLoss: 0.026129\n",
      "Train Epoch: 8 [42112/60000 (70%)]\tLoss: 0.003024\n",
      "Train Epoch: 8 [45952/60000 (77%)]\tLoss: 0.012798\n",
      "Train Epoch: 8 [49792/60000 (83%)]\tLoss: 0.006229\n",
      "Train Epoch: 8 [53632/60000 (90%)]\tLoss: 0.013143\n",
      "Train Epoch: 8 [57472/60000 (96%)]\tLoss: 0.005593\n",
      "\n",
      "Test set: Average loss: 0.0382, Accuracy: 9877/10000 (99%)\n",
      "\n",
      "Train Epoch: 9 [3712/60000 (6%)]\tLoss: 0.000303\n",
      "Train Epoch: 9 [7552/60000 (13%)]\tLoss: 0.004158\n",
      "Train Epoch: 9 [11392/60000 (19%)]\tLoss: 0.002233\n",
      "Train Epoch: 9 [15232/60000 (25%)]\tLoss: 0.001937\n",
      "Train Epoch: 9 [19072/60000 (32%)]\tLoss: 0.006377\n",
      "Train Epoch: 9 [22912/60000 (38%)]\tLoss: 0.002415\n",
      "Train Epoch: 9 [26752/60000 (45%)]\tLoss: 0.005855\n",
      "Train Epoch: 9 [30592/60000 (51%)]\tLoss: 0.001170\n",
      "Train Epoch: 9 [34432/60000 (57%)]\tLoss: 0.000486\n",
      "Train Epoch: 9 [38272/60000 (64%)]\tLoss: 0.011230\n",
      "Train Epoch: 9 [42112/60000 (70%)]\tLoss: 0.020253\n",
      "Train Epoch: 9 [45952/60000 (77%)]\tLoss: 0.011669\n",
      "Train Epoch: 9 [49792/60000 (83%)]\tLoss: 0.014541\n",
      "Train Epoch: 9 [53632/60000 (90%)]\tLoss: 0.014845\n",
      "Train Epoch: 9 [57472/60000 (96%)]\tLoss: 0.027307\n",
      "\n",
      "Test set: Average loss: 0.0435, Accuracy: 9864/10000 (99%)\n",
      "\n",
      "Train Epoch: 10 [3712/60000 (6%)]\tLoss: 0.002021\n",
      "Train Epoch: 10 [7552/60000 (13%)]\tLoss: 0.005647\n",
      "Train Epoch: 10 [11392/60000 (19%)]\tLoss: 0.012092\n",
      "Train Epoch: 10 [15232/60000 (25%)]\tLoss: 0.007883\n",
      "Train Epoch: 10 [19072/60000 (32%)]\tLoss: 0.002686\n",
      "Train Epoch: 10 [22912/60000 (38%)]\tLoss: 0.006959\n",
      "Train Epoch: 10 [26752/60000 (45%)]\tLoss: 0.010467\n",
      "Train Epoch: 10 [30592/60000 (51%)]\tLoss: 0.001528\n",
      "Train Epoch: 10 [34432/60000 (57%)]\tLoss: 0.000554\n",
      "Train Epoch: 10 [38272/60000 (64%)]\tLoss: 0.005166\n",
      "Train Epoch: 10 [42112/60000 (70%)]\tLoss: 0.002089\n",
      "Train Epoch: 10 [45952/60000 (77%)]\tLoss: 0.001527\n",
      "Train Epoch: 10 [49792/60000 (83%)]\tLoss: 0.002572\n",
      "Train Epoch: 10 [53632/60000 (90%)]\tLoss: 0.000388\n",
      "Train Epoch: 10 [57472/60000 (96%)]\tLoss: 0.007382\n",
      "\n",
      "Test set: Average loss: 0.0471, Accuracy: 9858/10000 (99%)\n",
      "\n"
     ]
    }
   ],
   "source": [
    "import torch.nn.functional as F\n",
    "for epoch in range(1, NUM_EPOCHS + 1):\n",
    "    train(model, DEVICE, train_loader, optimizer, epoch)\n",
    "    test(model, DEVICE, test_loader)"
   ]
  },
  {
   "cell_type": "code",
   "execution_count": null,
   "metadata": {},
   "outputs": [],
   "source": []
  }
 ],
 "metadata": {
  "kernelspec": {
   "display_name": "Python 3",
   "language": "python",
   "name": "python3"
  },
  "language_info": {
   "codemirror_mode": {
    "name": "ipython",
    "version": 3
   },
   "file_extension": ".py",
   "mimetype": "text/x-python",
   "name": "python",
   "nbconvert_exporter": "python",
   "pygments_lexer": "ipython3",
   "version": "3.7.4"
  }
 },
 "nbformat": 4,
 "nbformat_minor": 2
}
